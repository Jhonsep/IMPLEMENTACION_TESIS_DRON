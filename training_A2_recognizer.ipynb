{
  "nbformat": 4,
  "nbformat_minor": 0,
  "metadata": {
    "colab": {
      "provenance": [],
      "gpuType": "T4",
      "authorship_tag": "ABX9TyPMhgb3APDiPPqfW1v4iCFK",
      "include_colab_link": true
    },
    "kernelspec": {
      "name": "python3",
      "display_name": "Python 3"
    },
    "language_info": {
      "name": "python"
    },
    "accelerator": "GPU"
  },
  "cells": [
    {
      "cell_type": "markdown",
      "metadata": {
        "id": "view-in-github",
        "colab_type": "text"
      },
      "source": [
        "<a href=\"https://colab.research.google.com/github/Jhonsep/IMPLEMENTACION_TESIS_DRON/blob/main/training_A2_recognizer.ipynb\" target=\"_parent\"><img src=\"https://colab.research.google.com/assets/colab-badge.svg\" alt=\"Open In Colab\"/></a>"
      ]
    },
    {
      "cell_type": "markdown",
      "source": [
        "# Entrenamiento A2"
      ],
      "metadata": {
        "id": "C68-IgruFrDp"
      }
    },
    {
      "cell_type": "markdown",
      "source": [
        "## Settings"
      ],
      "metadata": {
        "id": "cr8VtG418ayH"
      }
    },
    {
      "cell_type": "code",
      "source": [
        "# ============================================\n",
        "# ENTRENAMIENTO A2 con STM FIFO (frame a frame)\n",
        "# - Fase DRONE:    190 frames\n",
        "# - Fase NODRONE:  90 frames (ruido / imágenes)\n",
        "# - Fase BLACK:    60 frames (imagen negra sólida)\n",
        "# - Métrica: CategoricalAccuracy\n",
        "# - Debugger opcional (VISUALIZE) actualiza frame a frame (rápido)\n",
        "# ============================================\n",
        "import os, random, time, glob\n",
        "import cv2\n",
        "import numpy as np\n",
        "import pandas as pd\n",
        "import tensorflow as tf\n",
        "from tensorflow import keras\n",
        "from tensorflow.keras import layers, Model, saving\n",
        "import matplotlib.pyplot as plt\n",
        "from IPython.display import display, clear_output\n",
        "\n",
        "# -------------------------\n",
        "# 0) Montaje Drive (opcional) y ver GPU\n",
        "# -------------------------\n",
        "def gpus_available():\n",
        "    \"\"\"Devuelve True si hay al menos un dispositivo GPU disponible.\"\"\"\n",
        "    gpus = tf.config.list_physical_devices('GPU')\n",
        "    return len(gpus) > 0\n",
        "\n",
        "# Uso típico\n",
        "if gpus_available():\n",
        "    print(\"GPU disponible:\", tf.config.list_physical_devices('GPU'), \"Usando GPU para el entrenamiento.\")\n",
        "else:\n",
        "     print(\"No se detectó una GPU. El entrenamiento se ejecutará en la CPU, lo cual será más lento.\")\n",
        "\n",
        "# Montar Google Drive\n",
        "from google.colab import drive\n",
        "try:\n",
        "    drive.mount('/content/drive')\n",
        "    print(\"Google Drive montado exitosamente.\")\n",
        "except Exception as e:\n",
        "    print(f\"Error al montar Drive: {e}. Intente recargar la página.\")\n",
        "\n",
        "# Definir la ruta de la carpeta del proyecto DENTRO de Drive\n",
        "# **ASEGÚRATE DE QUE ESTA RUTA COINCIDA CON LA UBICACIÓN DE TU CARPETA**\n",
        "RUTA_PROYECTO_DRIVE = '/content/drive/MyDrive/Implementacion_Tesis_Drones'\n",
        "\n",
        "# Cambiar el directorio de trabajo al proyecto\n",
        "if os.path.isdir(RUTA_PROYECTO_DRIVE):\n",
        "    %cd {RUTA_PROYECTO_DRIVE}\n",
        "    print(f\"Directorio de trabajo cambiado a: {os.getcwd()}\")\n",
        "else:\n",
        "    print(f\"Error: La carpeta '{RUTA_PROYECTO_DRIVE}' no fue encontrada.\")\n",
        "    print(\"Asegúrese de que la carpeta compartida esté en la raíz de su Drive.\")\n",
        "\n"
      ],
      "metadata": {
        "colab": {
          "base_uri": "https://localhost:8080/"
        },
        "id": "EW0ibdxW8XC8",
        "outputId": "492db568-5414-4bad-f717-41014c76af63"
      },
      "execution_count": null,
      "outputs": [
        {
          "output_type": "stream",
          "name": "stdout",
          "text": [
            "GPU disponible: [PhysicalDevice(name='/physical_device:GPU:0', device_type='GPU')] Usando GPU para el entrenamiento.\n",
            "Mounted at /content/drive\n",
            "Google Drive montado exitosamente.\n",
            "/content/drive/MyDrive/Implementacion_Tesis_Drones\n",
            "Directorio de trabajo cambiado a: /content/drive/MyDrive/Implementacion_Tesis_Drones\n"
          ]
        }
      ]
    },
    {
      "cell_type": "markdown",
      "source": [
        "## Rutas y parámetros"
      ],
      "metadata": {
        "id": "iF3NCief8XmD"
      }
    },
    {
      "cell_type": "code",
      "execution_count": null,
      "metadata": {
        "id": "r2BqKaDDlLNL"
      },
      "outputs": [],
      "source": [
        "# -------------------------\n",
        "# 1) Rutas y parámetros\n",
        "# -------------------------\n",
        "OUTPUT_DIR        = './'\n",
        "os.makedirs(OUTPUT_DIR, exist_ok=True)\n",
        "\n",
        "A1_MODEL_PATH     = os.path.join(OUTPUT_DIR, 'A1/models/OTA_drone_model_E3_T2.keras')\n",
        "A2_SAVE_PATH      = os.path.join(OUTPUT_DIR, 'A2/models/recognizer_dron_model_T1.keras')\n",
        "\n",
        "DRONE_SINGLE_IMAGE= os.path.join(OUTPUT_DIR, 'images/dron/0029(1).jpg')\n",
        "NODRONE_DIR       = os.path.join(OUTPUT_DIR, 'images/nodron')\n",
        "history_csv_path  = os.path.join(OUTPUT_DIR, 'A2/logs/recognizer_dron_model_T1.csv')\n",
        "\n",
        "# Geometría\n",
        "INPUT_IMAGE_SIZE = (320, 240)   # (W, H)\n",
        "ROI_W, ROI_H     = 240, 160\n",
        "STM_LEN          = 10\n",
        "OUT_DIM          = 22\n",
        "MIN_OFFSET       = -5\n",
        "\n",
        "# Esquema por época\n",
        "FRAMES_DRONE     = 190   # 120 frames con 'drone'\n",
        "FRAMES_NODRONE   = 90    # 180 frames no-dron (ruido/imágenes)\n",
        "FRAMES_BLACK     = 60    #  60 frames negros (no-dron)\n",
        "\n",
        "TEMPERATURA = 0.25\n",
        "\n",
        "# Entrenamiento\n",
        "EPOCHS       = 200\n",
        "BATCH_SIZE   = 8\n",
        "LR           = 1e-3\n",
        "SEED         = 42\n",
        "random.seed(SEED); np.random.seed(SEED); tf.random.set_seed(SEED)\n",
        "\n",
        "# Mezcla dentro de no-dron\n",
        "P_NOISE_WITHIN_NODRONE = 0.25\n",
        "\n",
        "# Movimiento suave\n",
        "DELTA_ANGLE_MAX = 10        # grados\n",
        "DELTA_SCALE_MAX = 0.10      # ±10%\n",
        "DELTA_TRANS_MAX = 5         # px por frame (suave)\n",
        "ANGLE_INIT_RANGE = (-25, 25)\n",
        "SCALE_INIT_RANGE = (0.35, 1.05)\n",
        "TRANS_INIT_RANGE = (-10, 10)\n",
        "\n",
        "# Debug\n",
        "VISUALIZE = False  # pon True para ver el HUD frame a frame (más lento)"
      ]
    },
    {
      "cell_type": "markdown",
      "source": [
        "## A1: clase registrable y carga (sin métrica custom)"
      ],
      "metadata": {
        "id": "7h8L5AG0-8qZ"
      }
    },
    {
      "cell_type": "code",
      "source": [
        "# -------------------------\n",
        "# 2) A1: clase registrable y carga (sin métrica custom)\n",
        "# -------------------------\n",
        "@saving.register_keras_serializable(package=\"MyModels\")\n",
        "class OffsetTrackingAutoencoder(Model):\n",
        "    def __init__(self, latent_dim, output_dim, input_shape, **kwargs):\n",
        "        super().__init__(**kwargs)\n",
        "        self.latent_dim = latent_dim\n",
        "        self.output_dim = output_dim\n",
        "        self.input_shape_ = input_shape\n",
        "        self.encoder = tf.keras.Sequential([\n",
        "            layers.Input(shape=input_shape),\n",
        "            layers.Flatten(),\n",
        "            layers.Dense(self.latent_dim, activation='relu')\n",
        "        ])\n",
        "        self.decoder = tf.keras.Sequential([ layers.Dense(self.output_dim, activation='sigmoid') ])\n",
        "    def build(self, input_shape):\n",
        "        self.input_shape_ = input_shape\n",
        "        self.encoder.build(input_shape)\n",
        "        inter = self.encoder.compute_output_shape(input_shape)\n",
        "        self.decoder.build(inter)\n",
        "        super().build(input_shape)\n",
        "    def call(self, x):\n",
        "        return self.decoder(self.encoder(x))\n",
        "    def get_config(self):\n",
        "        cfg = super().get_config()\n",
        "        cfg.update({'latent_dim': self.latent_dim, 'output_dim': self.output_dim, 'input_shape': self.input_shape_[1:]})\n",
        "        return cfg\n",
        "    @classmethod\n",
        "    def from_config(cls, config):\n",
        "        inp = config.pop('input_shape', None)\n",
        "        return cls(input_shape=inp, **config)\n",
        "\n",
        "print(\"\\nCargando A1...\")\n",
        "autoencoder_drone = tf.keras.models.load_model(\n",
        "    A1_MODEL_PATH,\n",
        "    compile=False,\n",
        "    custom_objects={'OffsetTrackingAutoencoder': OffsetTrackingAutoencoder}\n",
        ")\n",
        "print(\"A1 OK.\")\n",
        "\n",
        "@tf.function\n",
        "def tf_infer_a1(x):\n",
        "    return autoencoder_drone(x, training=False)\n",
        "\n",
        "# pre-warm\n",
        "_ = tf_infer_a1(tf.constant(np.zeros((1, ROI_H, ROI_W, 1), dtype=np.float32)))\n",
        "\n",
        "autoencoder_drone.summary()"
      ],
      "metadata": {
        "colab": {
          "base_uri": "https://localhost:8080/",
          "height": 256
        },
        "id": "sMrjk5NA-6Z2",
        "outputId": "f709b189-a3e6-45fe-fb73-2904839c3df1"
      },
      "execution_count": null,
      "outputs": [
        {
          "output_type": "stream",
          "name": "stdout",
          "text": [
            "\n",
            "Cargando A1...\n",
            "A1 OK.\n"
          ]
        },
        {
          "output_type": "display_data",
          "data": {
            "text/plain": [
              "\u001b[1mModel: \"offset_tracking_autoencoder_1\"\u001b[0m\n"
            ],
            "text/html": [
              "<pre style=\"white-space:pre;overflow-x:auto;line-height:normal;font-family:Menlo,'DejaVu Sans Mono',consolas,'Courier New',monospace\"><span style=\"font-weight: bold\">Model: \"offset_tracking_autoencoder_1\"</span>\n",
              "</pre>\n"
            ]
          },
          "metadata": {}
        },
        {
          "output_type": "display_data",
          "data": {
            "text/plain": [
              "┏━━━━━━━━━━━━━━━━━━━━━━━━━━━━━━━━━┳━━━━━━━━━━━━━━━━━━━━━━━━┳━━━━━━━━━━━━━━━┓\n",
              "┃\u001b[1m \u001b[0m\u001b[1mLayer (type)                   \u001b[0m\u001b[1m \u001b[0m┃\u001b[1m \u001b[0m\u001b[1mOutput Shape          \u001b[0m\u001b[1m \u001b[0m┃\u001b[1m \u001b[0m\u001b[1m      Param #\u001b[0m\u001b[1m \u001b[0m┃\n",
              "┡━━━━━━━━━━━━━━━━━━━━━━━━━━━━━━━━━╇━━━━━━━━━━━━━━━━━━━━━━━━╇━━━━━━━━━━━━━━━┩\n",
              "│ sequential (\u001b[38;5;33mSequential\u001b[0m)         │ (\u001b[38;5;45mNone\u001b[0m, \u001b[38;5;34m51\u001b[0m)             │     \u001b[38;5;34m1,958,451\u001b[0m │\n",
              "├─────────────────────────────────┼────────────────────────┼───────────────┤\n",
              "│ sequential_1 (\u001b[38;5;33mSequential\u001b[0m)       │ (\u001b[38;5;45mNone\u001b[0m, \u001b[38;5;34m22\u001b[0m)             │         \u001b[38;5;34m1,144\u001b[0m │\n",
              "└─────────────────────────────────┴────────────────────────┴───────────────┘\n"
            ],
            "text/html": [
              "<pre style=\"white-space:pre;overflow-x:auto;line-height:normal;font-family:Menlo,'DejaVu Sans Mono',consolas,'Courier New',monospace\">┏━━━━━━━━━━━━━━━━━━━━━━━━━━━━━━━━━┳━━━━━━━━━━━━━━━━━━━━━━━━┳━━━━━━━━━━━━━━━┓\n",
              "┃<span style=\"font-weight: bold\"> Layer (type)                    </span>┃<span style=\"font-weight: bold\"> Output Shape           </span>┃<span style=\"font-weight: bold\">       Param # </span>┃\n",
              "┡━━━━━━━━━━━━━━━━━━━━━━━━━━━━━━━━━╇━━━━━━━━━━━━━━━━━━━━━━━━╇━━━━━━━━━━━━━━━┩\n",
              "│ sequential (<span style=\"color: #0087ff; text-decoration-color: #0087ff\">Sequential</span>)         │ (<span style=\"color: #00d7ff; text-decoration-color: #00d7ff\">None</span>, <span style=\"color: #00af00; text-decoration-color: #00af00\">51</span>)             │     <span style=\"color: #00af00; text-decoration-color: #00af00\">1,958,451</span> │\n",
              "├─────────────────────────────────┼────────────────────────┼───────────────┤\n",
              "│ sequential_1 (<span style=\"color: #0087ff; text-decoration-color: #0087ff\">Sequential</span>)       │ (<span style=\"color: #00d7ff; text-decoration-color: #00d7ff\">None</span>, <span style=\"color: #00af00; text-decoration-color: #00af00\">22</span>)             │         <span style=\"color: #00af00; text-decoration-color: #00af00\">1,144</span> │\n",
              "└─────────────────────────────────┴────────────────────────┴───────────────┘\n",
              "</pre>\n"
            ]
          },
          "metadata": {}
        },
        {
          "output_type": "display_data",
          "data": {
            "text/plain": [
              "\u001b[1m Total params: \u001b[0m\u001b[38;5;34m1,959,595\u001b[0m (7.48 MB)\n"
            ],
            "text/html": [
              "<pre style=\"white-space:pre;overflow-x:auto;line-height:normal;font-family:Menlo,'DejaVu Sans Mono',consolas,'Courier New',monospace\"><span style=\"font-weight: bold\"> Total params: </span><span style=\"color: #00af00; text-decoration-color: #00af00\">1,959,595</span> (7.48 MB)\n",
              "</pre>\n"
            ]
          },
          "metadata": {}
        },
        {
          "output_type": "display_data",
          "data": {
            "text/plain": [
              "\u001b[1m Trainable params: \u001b[0m\u001b[38;5;34m1,959,595\u001b[0m (7.48 MB)\n"
            ],
            "text/html": [
              "<pre style=\"white-space:pre;overflow-x:auto;line-height:normal;font-family:Menlo,'DejaVu Sans Mono',consolas,'Courier New',monospace\"><span style=\"font-weight: bold\"> Trainable params: </span><span style=\"color: #00af00; text-decoration-color: #00af00\">1,959,595</span> (7.48 MB)\n",
              "</pre>\n"
            ]
          },
          "metadata": {}
        },
        {
          "output_type": "display_data",
          "data": {
            "text/plain": [
              "\u001b[1m Non-trainable params: \u001b[0m\u001b[38;5;34m0\u001b[0m (0.00 B)\n"
            ],
            "text/html": [
              "<pre style=\"white-space:pre;overflow-x:auto;line-height:normal;font-family:Menlo,'DejaVu Sans Mono',consolas,'Courier New',monospace\"><span style=\"font-weight: bold\"> Non-trainable params: </span><span style=\"color: #00af00; text-decoration-color: #00af00\">0</span> (0.00 B)\n",
              "</pre>\n"
            ]
          },
          "metadata": {}
        }
      ]
    },
    {
      "cell_type": "markdown",
      "source": [
        "## A2: definición + compile con CategoricalAccuracy"
      ],
      "metadata": {
        "id": "yDPq3m3n-6Tm"
      }
    },
    {
      "cell_type": "code",
      "source": [
        "# -------------------------\n",
        "# 3) A2: definición (MLP) + compile con CategoricalAccuracy\n",
        "# -------------------------\n",
        "@saving.register_keras_serializable(package=\"MyModels\")\n",
        "class Recognizer(Model):\n",
        "    def __init__(self, dense_units, dropout_rate, **kwargs):\n",
        "        super().__init__(**kwargs)\n",
        "        self.dense_units = dense_units\n",
        "        self.dropout_rate = dropout_rate\n",
        "        self.flatten = layers.Flatten()\n",
        "        self.d1 = layers.Dense(self.dense_units, activation='relu')\n",
        "        self.do = layers.Dropout(self.dropout_rate) if self.dropout_rate>0 else None\n",
        "        self.out = layers.Dense(2, activation='softmax', dtype='float32')\n",
        "\n",
        "    def build(self, input_shape):\n",
        "        self.flatten.build(input_shape)\n",
        "        flat = self.flatten.compute_output_shape(input_shape)\n",
        "        self.d1.build(flat)\n",
        "        nxt = self.d1.compute_output_shape(flat)\n",
        "        if self.do:\n",
        "            self.do.build(nxt); nxt = self.do.compute_output_shape(nxt)\n",
        "        self.out.build(nxt)\n",
        "        super().build(input_shape)\n",
        "\n",
        "    def call(self, x, training=False):\n",
        "        x = self.flatten(x)\n",
        "        x = self.d1(x)\n",
        "        if self.do:\n",
        "            x = self.do(x, training=training)\n",
        "        return self.out(x)\n",
        "    def get_config(self):\n",
        "        return {**super().get_config(), 'dense_units': self.dense_units, 'dropout_rate': self.dropout_rate}\n",
        "    @classmethod\n",
        "    def from_config(cls, config):\n",
        "        return cls(**config)\n",
        "\n",
        "recognizer = Recognizer(dense_units=37, dropout_rate=0.2)\n",
        "\n",
        "recognizer.compile(optimizer=keras.optimizers.Adam(LR),\n",
        "                   loss='categorical_crossentropy',\n",
        "                   metrics=[keras.metrics.CategoricalAccuracy(name='categorical_accuracy')])\n",
        "recognizer.build(input_shape=(None, STM_LEN, OUT_DIM))\n",
        "recognizer.summary()"
      ],
      "metadata": {
        "colab": {
          "base_uri": "https://localhost:8080/",
          "height": 272
        },
        "id": "9Kdd35ZJBX1R",
        "outputId": "2fe4a573-a9e5-40aa-8e73-2f2261b5fc5b"
      },
      "execution_count": null,
      "outputs": [
        {
          "output_type": "display_data",
          "data": {
            "text/plain": [
              "\u001b[1mModel: \"recognizer\"\u001b[0m\n"
            ],
            "text/html": [
              "<pre style=\"white-space:pre;overflow-x:auto;line-height:normal;font-family:Menlo,'DejaVu Sans Mono',consolas,'Courier New',monospace\"><span style=\"font-weight: bold\">Model: \"recognizer\"</span>\n",
              "</pre>\n"
            ]
          },
          "metadata": {}
        },
        {
          "output_type": "display_data",
          "data": {
            "text/plain": [
              "┏━━━━━━━━━━━━━━━━━━━━━━━━━━━━━━━━━┳━━━━━━━━━━━━━━━━━━━━━━━━┳━━━━━━━━━━━━━━━┓\n",
              "┃\u001b[1m \u001b[0m\u001b[1mLayer (type)                   \u001b[0m\u001b[1m \u001b[0m┃\u001b[1m \u001b[0m\u001b[1mOutput Shape          \u001b[0m\u001b[1m \u001b[0m┃\u001b[1m \u001b[0m\u001b[1m      Param #\u001b[0m\u001b[1m \u001b[0m┃\n",
              "┡━━━━━━━━━━━━━━━━━━━━━━━━━━━━━━━━━╇━━━━━━━━━━━━━━━━━━━━━━━━╇━━━━━━━━━━━━━━━┩\n",
              "│ flatten_1 (\u001b[38;5;33mFlatten\u001b[0m)             │ (\u001b[38;5;45mNone\u001b[0m, \u001b[38;5;34m220\u001b[0m)            │             \u001b[38;5;34m0\u001b[0m │\n",
              "├─────────────────────────────────┼────────────────────────┼───────────────┤\n",
              "│ dense_2 (\u001b[38;5;33mDense\u001b[0m)                 │ (\u001b[38;5;45mNone\u001b[0m, \u001b[38;5;34m37\u001b[0m)             │         \u001b[38;5;34m8,177\u001b[0m │\n",
              "├─────────────────────────────────┼────────────────────────┼───────────────┤\n",
              "│ dropout (\u001b[38;5;33mDropout\u001b[0m)               │ (\u001b[38;5;45mNone\u001b[0m, \u001b[38;5;34m37\u001b[0m)             │             \u001b[38;5;34m0\u001b[0m │\n",
              "├─────────────────────────────────┼────────────────────────┼───────────────┤\n",
              "│ dense_3 (\u001b[38;5;33mDense\u001b[0m)                 │ (\u001b[38;5;45mNone\u001b[0m, \u001b[38;5;34m2\u001b[0m)              │            \u001b[38;5;34m76\u001b[0m │\n",
              "└─────────────────────────────────┴────────────────────────┴───────────────┘\n"
            ],
            "text/html": [
              "<pre style=\"white-space:pre;overflow-x:auto;line-height:normal;font-family:Menlo,'DejaVu Sans Mono',consolas,'Courier New',monospace\">┏━━━━━━━━━━━━━━━━━━━━━━━━━━━━━━━━━┳━━━━━━━━━━━━━━━━━━━━━━━━┳━━━━━━━━━━━━━━━┓\n",
              "┃<span style=\"font-weight: bold\"> Layer (type)                    </span>┃<span style=\"font-weight: bold\"> Output Shape           </span>┃<span style=\"font-weight: bold\">       Param # </span>┃\n",
              "┡━━━━━━━━━━━━━━━━━━━━━━━━━━━━━━━━━╇━━━━━━━━━━━━━━━━━━━━━━━━╇━━━━━━━━━━━━━━━┩\n",
              "│ flatten_1 (<span style=\"color: #0087ff; text-decoration-color: #0087ff\">Flatten</span>)             │ (<span style=\"color: #00d7ff; text-decoration-color: #00d7ff\">None</span>, <span style=\"color: #00af00; text-decoration-color: #00af00\">220</span>)            │             <span style=\"color: #00af00; text-decoration-color: #00af00\">0</span> │\n",
              "├─────────────────────────────────┼────────────────────────┼───────────────┤\n",
              "│ dense_2 (<span style=\"color: #0087ff; text-decoration-color: #0087ff\">Dense</span>)                 │ (<span style=\"color: #00d7ff; text-decoration-color: #00d7ff\">None</span>, <span style=\"color: #00af00; text-decoration-color: #00af00\">37</span>)             │         <span style=\"color: #00af00; text-decoration-color: #00af00\">8,177</span> │\n",
              "├─────────────────────────────────┼────────────────────────┼───────────────┤\n",
              "│ dropout (<span style=\"color: #0087ff; text-decoration-color: #0087ff\">Dropout</span>)               │ (<span style=\"color: #00d7ff; text-decoration-color: #00d7ff\">None</span>, <span style=\"color: #00af00; text-decoration-color: #00af00\">37</span>)             │             <span style=\"color: #00af00; text-decoration-color: #00af00\">0</span> │\n",
              "├─────────────────────────────────┼────────────────────────┼───────────────┤\n",
              "│ dense_3 (<span style=\"color: #0087ff; text-decoration-color: #0087ff\">Dense</span>)                 │ (<span style=\"color: #00d7ff; text-decoration-color: #00d7ff\">None</span>, <span style=\"color: #00af00; text-decoration-color: #00af00\">2</span>)              │            <span style=\"color: #00af00; text-decoration-color: #00af00\">76</span> │\n",
              "└─────────────────────────────────┴────────────────────────┴───────────────┘\n",
              "</pre>\n"
            ]
          },
          "metadata": {}
        },
        {
          "output_type": "display_data",
          "data": {
            "text/plain": [
              "\u001b[1m Total params: \u001b[0m\u001b[38;5;34m8,253\u001b[0m (32.24 KB)\n"
            ],
            "text/html": [
              "<pre style=\"white-space:pre;overflow-x:auto;line-height:normal;font-family:Menlo,'DejaVu Sans Mono',consolas,'Courier New',monospace\"><span style=\"font-weight: bold\"> Total params: </span><span style=\"color: #00af00; text-decoration-color: #00af00\">8,253</span> (32.24 KB)\n",
              "</pre>\n"
            ]
          },
          "metadata": {}
        },
        {
          "output_type": "display_data",
          "data": {
            "text/plain": [
              "\u001b[1m Trainable params: \u001b[0m\u001b[38;5;34m8,253\u001b[0m (32.24 KB)\n"
            ],
            "text/html": [
              "<pre style=\"white-space:pre;overflow-x:auto;line-height:normal;font-family:Menlo,'DejaVu Sans Mono',consolas,'Courier New',monospace\"><span style=\"font-weight: bold\"> Trainable params: </span><span style=\"color: #00af00; text-decoration-color: #00af00\">8,253</span> (32.24 KB)\n",
              "</pre>\n"
            ]
          },
          "metadata": {}
        },
        {
          "output_type": "display_data",
          "data": {
            "text/plain": [
              "\u001b[1m Non-trainable params: \u001b[0m\u001b[38;5;34m0\u001b[0m (0.00 B)\n"
            ],
            "text/html": [
              "<pre style=\"white-space:pre;overflow-x:auto;line-height:normal;font-family:Menlo,'DejaVu Sans Mono',consolas,'Courier New',monospace\"><span style=\"font-weight: bold\"> Non-trainable params: </span><span style=\"color: #00af00; text-decoration-color: #00af00\">0</span> (0.00 B)\n",
              "</pre>\n"
            ]
          },
          "metadata": {}
        }
      ]
    },
    {
      "cell_type": "markdown",
      "source": [
        "## Utils: E/S, Canny, augment, ROI, temperatura"
      ],
      "metadata": {
        "id": "fn3L5zZ6Brvh"
      }
    },
    {
      "cell_type": "code",
      "source": [
        "# -------------------------\n",
        "# 4) Utils: E/S, Canny, augment, ROI, temperatura\n",
        "# -------------------------\n",
        "def load_gray_norm(path):\n",
        "    img = cv2.imread(path)\n",
        "    if img is None:\n",
        "        return None\n",
        "    img = cv2.resize(img, INPUT_IMAGE_SIZE)\n",
        "    gray = cv2.cvtColor(img, cv2.COLOR_BGR2GRAY)\n",
        "    return gray.astype(np.float32)/255.0\n",
        "\n",
        "def compute_canny_norm(img_gray_norm):\n",
        "    im_u8 = (img_gray_norm * 255).astype(np.uint8)\n",
        "    return cv2.Canny(im_u8, 50, 150).astype(np.float32) / 255.0\n",
        "\n",
        "def crop_roi(edges_norm, center_xy):\n",
        "    cx, cy = int(center_xy[0]), int(center_xy[1])\n",
        "    x0 = max(0, cx - ROI_W//2); y0 = max(0, cy - ROI_H//2)\n",
        "    x1 = min(INPUT_IMAGE_SIZE[0], x0 + ROI_W); y1 = min(INPUT_IMAGE_SIZE[1], y0 + ROI_H)\n",
        "    roi = edges_norm[y0:y1, x0:x1]\n",
        "    if roi.shape[0]!=ROI_H or roi.shape[1]!=ROI_W:\n",
        "        roi = cv2.resize(roi, (ROI_W, ROI_H), interpolation=cv2.INTER_AREA)\n",
        "    return roi\n",
        "\n",
        "class SmoothMotionState:\n",
        "    def __init__(self, angle_range=ANGLE_INIT_RANGE, scale_range=SCALE_INIT_RANGE, trans_range=TRANS_INIT_RANGE):\n",
        "        self.angle = float(random.uniform(*angle_range))\n",
        "        self.scale = float(random.uniform(*scale_range))\n",
        "        self.tx = float(random.uniform(*trans_range))\n",
        "        self.ty = float(random.uniform(*trans_range))\n",
        "    def step(self):\n",
        "        self.angle += random.uniform(-DELTA_ANGLE_MAX, DELTA_ANGLE_MAX)\n",
        "        self.angle = float(np.clip(self.angle, ANGLE_INIT_RANGE[0], ANGLE_INIT_RANGE[1]))\n",
        "        self.scale *= (1.0 + random.uniform(-DELTA_SCALE_MAX, DELTA_SCALE_MAX))\n",
        "        self.scale = float(np.clip(self.scale, SCALE_INIT_RANGE[0], SCALE_INIT_RANGE[1]))\n",
        "        self.tx += random.uniform(-DELTA_TRANS_MAX, DELTA_TRANS_MAX)\n",
        "        self.tx = float(np.clip(self.tx, TRANS_INIT_RANGE[0], TRANS_INIT_RANGE[1]))\n",
        "        self.ty += random.uniform(-DELTA_TRANS_MAX, DELTA_TRANS_MAX)\n",
        "        self.ty = float(np.clip(self.ty, TRANS_INIT_RANGE[0], TRANS_INIT_RANGE[1]))\n",
        "\n",
        "def transform_edges_from_gray(base_gray_norm, motion: SmoothMotionState):\n",
        "    H, W = base_gray_norm.shape[:2]\n",
        "    edges0 = compute_canny_norm(base_gray_norm)  # 0..1 float\n",
        "    e_u8 = (edges0 * 255).astype(np.uint8)\n",
        "\n",
        "    cx, cy = W//2, H//2\n",
        "    M_rot = cv2.getRotationMatrix2D((cx, cy), motion.angle, 1.0)\n",
        "    rot = cv2.warpAffine(e_u8, M_rot, (W, H), flags=cv2.INTER_LINEAR,\n",
        "                         borderMode=cv2.BORDER_CONSTANT, borderValue=0)\n",
        "\n",
        "    new_w = max(1, int(round(W * motion.scale)))\n",
        "    new_h = max(1, int(round(H * motion.scale)))\n",
        "    content = cv2.resize(rot, (new_w, new_h),\n",
        "                         interpolation=cv2.INTER_AREA if motion.scale < 1.0 else cv2.INTER_LINEAR)\n",
        "    canvas = np.zeros((H, W), dtype=np.uint8)\n",
        "\n",
        "    start_x = int((W - new_w) // 2 + motion.tx)\n",
        "    start_y = int((H - new_h) // 2 + motion.ty)\n",
        "    dst_x0 = max(0, start_x); dst_y0 = max(0, start_y)\n",
        "    dst_x1 = min(W, start_x + new_w); dst_y1 = min(H, start_y + new_h)\n",
        "    src_x0 = max(0, -start_x); src_y0 = max(0, -start_y)\n",
        "    src_x1 = src_x0 + (dst_x1 - dst_x0); src_y1 = src_y0 + (dst_y1 - dst_y0)\n",
        "    if dst_x1 > dst_x0 and dst_y1 > dst_y0:\n",
        "        canvas[dst_y0:dst_y1, dst_x0:dst_x1] = content[src_y0:src_y1, src_x0:src_x1]\n",
        "\n",
        "    return canvas.astype(np.float32)/255.0\n",
        "\n",
        "def softmax_temp(logits, T=0.6):\n",
        "    z = np.asarray(logits, dtype=np.float32) / max(T, 1e-6)\n",
        "    z -= np.max(z)  # estabilidad numérica\n",
        "    e = np.exp(z)\n",
        "    return e / (np.sum(e) + 1e-8)\n",
        "\n",
        "def normalize_a1_pred_with_temperature(pred22, T=0.6):\n",
        "    px_probs = softmax_temp(pred22[:11], T=T)\n",
        "    py_probs = softmax_temp(pred22[11:], T=T)\n",
        "    return np.concatenate([px_probs, py_probs], axis=0), px_probs, py_probs\n",
        "\n",
        "def offsets_vector(min_offset=-5, n=11):\n",
        "    return np.arange(min_offset, min_offset+n, dtype=np.float32)\n",
        "\n",
        "def center_xy():\n",
        "    return (INPUT_IMAGE_SIZE[0]//2, INPUT_IMAGE_SIZE[1]//2)\n"
      ],
      "metadata": {
        "id": "hveKDC5hBqci"
      },
      "execution_count": null,
      "outputs": []
    },
    {
      "cell_type": "markdown",
      "source": [
        "## Fuentes no-dron"
      ],
      "metadata": {
        "id": "aHU7chE2B1u5"
      }
    },
    {
      "cell_type": "code",
      "source": [
        "# -------------------------\n",
        "# 5) Fuentes no-dron\n",
        "# -------------------------\n",
        "drone_base = load_gray_norm(DRONE_SINGLE_IMAGE)\n",
        "if drone_base is None:\n",
        "    raise SystemExit(f\"No se pudo cargar la imagen dron: {DRONE_SINGLE_IMAGE}\")\n",
        "nodrone_paths = glob.glob(os.path.join(NODRONE_DIR, '*'))\n",
        "\n",
        "def sample_nodrone_gray():\n",
        "    if random.random() < P_NOISE_WITHIN_NODRONE:\n",
        "        # ruido (brillante para forzar bordes; ajusta si prefieres uniforme)\n",
        "        return (np.random.randint(216,256,(INPUT_IMAGE_SIZE[1], INPUT_IMAGE_SIZE[0]), dtype=np.uint8).astype(np.float32)/255.0)\n",
        "    if not nodrone_paths:\n",
        "        return (np.random.randint(0,256,(INPUT_IMAGE_SIZE[1], INPUT_IMAGE_SIZE[0]), dtype=np.uint8).astype(np.float32)/255.0)\n",
        "    p = random.choice(nodrone_paths)\n",
        "    g = load_gray_norm(p)\n",
        "    if g is None:\n",
        "        return (np.random.randint(0,256,(INPUT_IMAGE_SIZE[1], INPUT_IMAGE_SIZE[0]), dtype=np.uint8).astype(np.float32)/255.0)\n",
        "    return g\n"
      ],
      "metadata": {
        "id": "ayQ8YazFBxRY"
      },
      "execution_count": null,
      "outputs": []
    },
    {
      "cell_type": "markdown",
      "source": [
        "## Debug HUD (A1 offsets -5..5, STM con new→left, A2 con truth marker)"
      ],
      "metadata": {
        "id": "boGsF18nCJKd"
      }
    },
    {
      "cell_type": "code",
      "source": [
        "# -------------------------\n",
        "# 6) Debug HUD (A1 offsets -5..5, STM con new→left, A2 con truth marker)\n",
        "# -------------------------\n",
        "offset_ticks = list(range(MIN_OFFSET, MIN_OFFSET+11))  # [-5..5]\n",
        "\n",
        "def debug_plot(roi_img, px_probs, py_probs, stm, a2_probs, title, epoch, total_epochs, true_lbl, motion_d):\n",
        "    clear_output(wait=True)\n",
        "    fig = plt.figure(figsize=(14,6))\n",
        "    gs = fig.add_gridspec(2,4, width_ratios=[1.1, 1.1, 1.6, 1.0])\n",
        "\n",
        "    # ROI\n",
        "    ax_roi = fig.add_subplot(gs[:,0])\n",
        "    ax_roi.imshow(roi_img, cmap='gray', vmin=0, vmax=1)\n",
        "    ax_roi.set_title('ROI → A1')\n",
        "    if motion_d is not None:\n",
        "        ax_roi.set_xlabel(f'θ={motion_d.angle:.2f}°, scale={motion_d.scale:.2f}, tx={motion_d.tx:.2f}, ty={motion_d.ty:.2f}')\n",
        "\n",
        "    # A1-X\n",
        "    ax_x = fig.add_subplot(gs[0,1])\n",
        "    ax_x.bar(offset_ticks, px_probs)\n",
        "    ax_x.set_ylim(0,1); ax_x.set_xlim(MIN_OFFSET-0.5, MIN_OFFSET+10.5)\n",
        "    ax_x.set_title('A1 - X (offsets)'); ax_x.set_xticks(offset_ticks); ax_x.grid(True, alpha=0.2)\n",
        "\n",
        "    # A1-Y\n",
        "    ax_y = fig.add_subplot(gs[1,1])\n",
        "    ax_y.bar(offset_ticks, py_probs)\n",
        "    ax_y.set_ylim(0,1); ax_y.set_xlim(MIN_OFFSET-0.5, MIN_OFFSET+10.5)\n",
        "    ax_y.set_title('A1 - Y (offsets)'); ax_y.set_xticks(offset_ticks); ax_y.grid(True, alpha=0.2)\n",
        "\n",
        "    # STM heatmap (new → left, old → right)\n",
        "    ax_stm = fig.add_subplot(gs[:,2])\n",
        "    stm_plot = np.flip(stm, axis=0)  # invierte eje tiempo → nuevo queda en la izquierda\n",
        "    im = ax_stm.imshow(stm_plot.T, aspect='auto', interpolation='nearest', origin='lower')\n",
        "    yticks = list(range(22))\n",
        "    yticklabels = [-5 + (i % 11) for i in range(22)]\n",
        "    ax_stm.set_yticks(yticks); ax_stm.set_yticklabels(yticklabels)\n",
        "    ax_stm.set_title('STM (22×10)^T  — Tiempo (new → old)')\n",
        "    ax_stm.set_xlabel('← new     old →')\n",
        "    fig.colorbar(im, ax=ax_stm, fraction=0.046, pad=0.04)\n",
        "\n",
        "    # A2: barras + truth marker\n",
        "    ax_bar = fig.add_subplot(gs[:,3])\n",
        "    x_pos = np.arange(2)\n",
        "    ax_bar.bar(x_pos, [float(a2_probs[0]), float(a2_probs[1])],\n",
        "               tick_label=['Drone','NoDrone'])\n",
        "    ax_bar.set_ylim(0,1); ax_bar.set_title('Salida A2 (prob.)'); ax_bar.grid(True, axis='y', alpha=0.3)\n",
        "    true_idx = int(np.argmax(true_lbl))  # 0=Drone, 1=NoDrone\n",
        "    ax_bar.plot([true_idx, true_idx], [0, 1], linewidth=1.0, color='k', alpha=0.5)\n",
        "    ax_bar.plot(true_idx, 1.0, marker='o', markersize=8,\n",
        "                markerfacecolor='none', markeredgecolor='k', linewidth=1.2)\n",
        "\n",
        "    plt.suptitle(f'{title}  —  Época {epoch}/{total_epochs}', fontsize=11)\n",
        "    plt.tight_layout(); plt.show()\n"
      ],
      "metadata": {
        "id": "W_HOPwYkCD1p"
      },
      "execution_count": null,
      "outputs": []
    },
    {
      "cell_type": "markdown",
      "source": [
        "## Entrenamiento FIFO con 3 fases (Drone → NoDrone → Black)"
      ],
      "metadata": {
        "id": "uMG3fSY0Fmru"
      }
    },
    {
      "cell_type": "code",
      "execution_count": null,
      "metadata": {
        "colab": {
          "base_uri": "https://localhost:8080/",
          "height": 476
        },
        "outputId": "79b909b1-729d-4f97-8ea9-2005c1266b28",
        "id": "1Y-cor-NCvMx"
      },
      "outputs": [
        {
          "output_type": "stream",
          "name": "stdout",
          "text": [
            "Época 200/200  —  loss_avg=0.1301  acc_avg=0.9538\n"
          ]
        },
        {
          "output_type": "display_data",
          "data": {
            "text/plain": [
              "<Figure size 1000x400 with 2 Axes>"
            ],
            "image/png": "[encoded data removed]"
          },
          "metadata": {}
        },
        {
          "output_type": "stream",
          "name": "stdout",
          "text": [
            "Historial por época guardado en: ./A2/logs/recognizer_dron_model_T1_epoch.csv\n",
            "\n",
            "Entrenamiento completado. A2 guardado en: ./A2/models/recognizer_dron_model_T1.keras\n"
          ]
        }
      ],
      "source": [
        "# -------------------------\n",
        "# 7) Entrenamiento FIFO con 3 fases (Drone → NoDrone → Black)\n",
        "# -------------------------\n",
        "def make_label(drone=True):\n",
        "    return np.array([1.,0.], dtype=np.float32) if drone else np.array([0.,1.], dtype=np.float32)\n",
        "\n",
        "def push_and_maybe_train(batch_X, batch_y):\n",
        "    if len(batch_X) >= BATCH_SIZE:\n",
        "        Xb = np.array(batch_X[:BATCH_SIZE], dtype=np.float32)\n",
        "        yb = np.array(batch_y[:BATCH_SIZE], dtype=np.float32)\n",
        "        metrics = recognizer.train_on_batch(Xb, yb)\n",
        "        del batch_X[:BATCH_SIZE]; del batch_y[:BATCH_SIZE]\n",
        "        return float(metrics[0]), float(metrics[1])\n",
        "    return None, None\n",
        "\n",
        "history = []  # (step, loss, acc)\n",
        "global_step = 0\n",
        "# --- LOG por ÉPOCA ---\n",
        "epoch_log = {'epoch': [], 'loss': [], 'acc': []}\n",
        "\n",
        "\n",
        "for epoch in range(1, EPOCHS+1):\n",
        "    print(f\"\\n--- Época {epoch}/{EPOCHS} ---\")\n",
        "    stm_buffer = []\n",
        "    batch_X, batch_y = [], []\n",
        "    epoch_loss_acc = []\n",
        "    motion_d = SmoothMotionState()\n",
        "\n",
        "    # ----- Fase DRONE -----\n",
        "    for f in range(FRAMES_DRONE):\n",
        "        edges = transform_edges_from_gray(drone_base, motion_d)\n",
        "        roi   = crop_roi(edges, center_xy())\n",
        "        pred_raw = tf_infer_a1(tf.constant(roi.reshape(1,ROI_H,ROI_W,1), dtype=tf.float32)).numpy()[0]\n",
        "\n",
        "        # Normalizar con temperatura y alimentar STM\n",
        "        pred_norm, px_probs, py_probs = normalize_a1_pred_with_temperature(pred_raw, T=TEMPERATURA)\n",
        "\n",
        "        stm_buffer.append(pred_norm.astype(np.float32))\n",
        "        if len(stm_buffer) > STM_LEN: stm_buffer.pop(0)\n",
        "\n",
        "        if len(stm_buffer) == STM_LEN:\n",
        "            stm_mat = np.stack(stm_buffer, axis=0)\n",
        "            batch_X.append(stm_mat); batch_y.append(make_label(True))\n",
        "\n",
        "            if VISUALIZE:\n",
        "                probs = recognizer.predict(stm_mat[np.newaxis,...], verbose=0)[0]\n",
        "                debug_plot(roi, px_probs, py_probs, stm_mat, probs,\n",
        "                           title=f'DRONE  f={f+1}/{FRAMES_DRONE}',\n",
        "                           epoch=epoch, total_epochs=EPOCHS,\n",
        "                           true_lbl=np.array([1.,0.], dtype=np.float32),\n",
        "                           motion_d=motion_d)\n",
        "\n",
        "            loss, acc = push_and_maybe_train(batch_X, batch_y)\n",
        "            if loss is not None:\n",
        "                global_step += 1\n",
        "                history.append((global_step, loss, acc))\n",
        "                epoch_loss_acc.append((loss, acc))\n",
        "                print(f\"\\r[DRONE] step {global_step}: loss={loss:.4f} acc={acc:.4f}\", end='')\n",
        "\n",
        "        motion_d.step()\n",
        "\n",
        "    # ----- Fase NO-DRON -----\n",
        "    for f in range(FRAMES_NODRONE):\n",
        "        base  = sample_nodrone_gray()\n",
        "        edges = compute_canny_norm(base)\n",
        "        roi   = crop_roi(edges, center_xy())\n",
        "        pred_raw = tf_infer_a1(tf.constant(roi.reshape(1,ROI_H,ROI_W,1), dtype=tf.float32)).numpy()[0]\n",
        "\n",
        "        pred_norm, px_probs, py_probs = normalize_a1_pred_with_temperature(pred_raw, T=TEMPERATURA)\n",
        "\n",
        "        stm_buffer.append(pred_norm.astype(np.float32))\n",
        "        if len(stm_buffer) > STM_LEN: stm_buffer.pop(0)\n",
        "\n",
        "        if len(stm_buffer) == STM_LEN:\n",
        "            stm_mat = np.stack(stm_buffer, axis=0)\n",
        "            batch_X.append(stm_mat); batch_y.append(make_label(False))\n",
        "\n",
        "            if VISUALIZE:\n",
        "                probs = recognizer.predict(stm_mat[np.newaxis,...], verbose=0)[0]\n",
        "                debug_plot(roi, px_probs, py_probs, stm_mat, probs,\n",
        "                           title=f'NO-DRON  f={f+1}/{FRAMES_NODRONE}',\n",
        "                           epoch=epoch, total_epochs=EPOCHS,\n",
        "                           true_lbl=np.array([0.,1.], dtype=np.float32),\n",
        "                           motion_d=None)\n",
        "\n",
        "            loss, acc = push_and_maybe_train(batch_X, batch_y)\n",
        "            if loss is not None:\n",
        "                global_step += 1\n",
        "                history.append((global_step, loss, acc))\n",
        "                epoch_loss_acc.append((loss, acc))\n",
        "                print(f\"\\r[NO-DRON] step {global_step}: loss={loss:.4f} acc={acc:.4f}\", end='')\n",
        "\n",
        "    # ----- Fase BLACK (imagen completamente negra) -----\n",
        "    for f in range(FRAMES_BLACK):\n",
        "        black = np.zeros((INPUT_IMAGE_SIZE[1], INPUT_IMAGE_SIZE[0]), dtype=np.float32)  # 0..1\n",
        "        edges = compute_canny_norm(black)  # será todo cero\n",
        "        roi   = crop_roi(edges, center_xy())\n",
        "        pred_raw = tf_infer_a1(tf.constant(roi.reshape(1,ROI_H,ROI_W,1), dtype=tf.float32)).numpy()[0]\n",
        "\n",
        "        pred_norm, px_probs, py_probs = normalize_a1_pred_with_temperature(pred_raw, T=TEMPERATURA)\n",
        "\n",
        "        stm_buffer.append(pred_norm.astype(np.float32))\n",
        "        if len(stm_buffer) > STM_LEN: stm_buffer.pop(0)\n",
        "\n",
        "        if len(stm_buffer) == STM_LEN:\n",
        "            stm_mat = np.stack(stm_buffer, axis=0)\n",
        "            batch_X.append(stm_mat); batch_y.append(make_label(False))  # BLACK = NoDrone\n",
        "\n",
        "            if VISUALIZE:\n",
        "                probs = recognizer.predict(stm_mat[np.newaxis,...], verbose=0)[0]\n",
        "                debug_plot(roi, px_probs, py_probs, stm_mat, probs,\n",
        "                           title=f'BLACK  f={f+1}/{FRAMES_BLACK}',\n",
        "                           epoch=epoch, total_epochs=EPOCHS,\n",
        "                           true_lbl=np.array([0.,1.], dtype=np.float32),\n",
        "                           motion_d=None)\n",
        "\n",
        "            loss, acc = push_and_maybe_train(batch_X, batch_y)\n",
        "            if loss is not None:\n",
        "                global_step += 1\n",
        "                history.append((global_step, loss, acc))\n",
        "                epoch_loss_acc.append((loss, acc))\n",
        "                print(f\"\\r[BLACK] step {global_step}: loss={loss:.4f} acc={acc:.4f}\", end='')\n",
        "\n",
        "    # Vaciar lote pendiente al final de la época\n",
        "    while len(batch_X) > 0:\n",
        "        if len(batch_X) >= BATCH_SIZE:\n",
        "            loss, acc = push_and_maybe_train(batch_X, batch_y)\n",
        "        else:\n",
        "            Xb = np.array(batch_X, dtype=np.float32)\n",
        "            yb = np.array(batch_y, dtype=np.float32)\n",
        "            metrics = recognizer.train_on_batch(Xb, yb)\n",
        "            loss, acc = float(metrics[0]), float(metrics[1])\n",
        "            batch_X.clear(); batch_y.clear()\n",
        "        global_step += 1\n",
        "        history.append((global_step, loss, acc))\n",
        "        epoch_loss_acc.append((loss, acc))\n",
        "        print(f\"\\r[FLUSH] step {global_step}: loss={loss:.4f} acc={acc:.4f}\", end='')\n",
        "\n",
        "    # ---- Fin de época: métricas por ÉPOCA + plot (ax[0]=loss, ax[1]=acc) ----\n",
        "    clear_output(wait=True)\n",
        "    ep_loss = np.mean([x[0] for x in epoch_loss_acc]) if epoch_loss_acc else np.nan\n",
        "    ep_acc  = np.mean([x[1] for x in epoch_loss_acc]) if epoch_loss_acc else np.nan\n",
        "    print(f\"Época {epoch}/{EPOCHS}  —  loss_avg={ep_loss:.4f}  acc_avg={ep_acc:.4f}\")\n",
        "\n",
        "    # Guardar en el log por época\n",
        "    epoch_log['epoch'].append(epoch)\n",
        "    epoch_log['loss'].append(ep_loss)\n",
        "    epoch_log['acc'].append(ep_acc)\n",
        "\n",
        "    # DataFrame por época\n",
        "    ep_df = pd.DataFrame(epoch_log)\n",
        "\n",
        "    # Plots: ÉPOCA vs LOSS/ACC (ax[0]=loss, ax[1]=acc)\n",
        "    fig, axes = plt.subplots(1,2, figsize=(10,4))\n",
        "    axes[0].plot(ep_df['epoch'], ep_df['loss'], color='red')#, marker='o')\n",
        "    axes[0].set_title('Loss por época'); axes[0].set_xlabel('Época'); axes[0].set_ylabel('Loss'); axes[0].grid(True)\n",
        "    axes[1].plot(ep_df['epoch'], ep_df['acc'])#, marker='o')\n",
        "    axes[1].set_title('Accuracy por época'); axes[1].set_xlabel('Época'); axes[1].set_ylabel('Accuracy'); axes[1].grid(True)\n",
        "    plt.tight_layout(); display(fig); plt.close(fig)\n",
        "\n",
        "    # (opcional) guarda también el CSV por época\n",
        "    recognizer.save(A2_SAVE_PATH, include_optimizer=True)\n",
        "    epoch_history_csv_path = history_csv_path.replace('.csv', '_epoch.csv')\n",
        "    ep_df.to_csv(epoch_history_csv_path, index=False)\n",
        "    print(f\"Historial por época guardado en: {epoch_history_csv_path}\")\n",
        "\n",
        "print(\"\\nEntrenamiento completado. A2 guardado en:\", A2_SAVE_PATH)"
      ]
    },
    {
      "cell_type": "markdown",
      "source": [
        "## Imagen del dron"
      ],
      "metadata": {
        "id": "rSrb5y5MxeCo"
      }
    },
    {
      "cell_type": "markdown",
      "source": [
        "![0029(1).jpg](data:image/jpeg;base64,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)"
      ],
      "metadata": {
        "id": "mtGUgDlPxg1X"
      }
    },
    {
      "cell_type": "markdown",
      "source": [
        "Guarda esta imagen dentro de googledrive y pela ruta en dron single Image"
      ],
      "metadata": {
        "id": "koDrBFxQy9N3"
      }
    },
    {
      "cell_type": "code",
      "source": [],
      "metadata": {
        "id": "ecHPq_3yzKRL"
      },
      "execution_count": null,
      "outputs": []
    }
  ]
}